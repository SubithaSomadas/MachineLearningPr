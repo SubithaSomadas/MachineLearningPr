{
 "cells": [
  {
   "cell_type": "code",
   "execution_count": 1,
   "id": "8ab01b81",
   "metadata": {},
   "outputs": [],
   "source": [
    "import numpy as np\n",
    "import pandas as pd\n",
    "import matplotlib.pyplot as plt\n",
    "from sklearn.model_selection import train_test_split\n",
    "from sklearn.linear_model import LinearRegression\n",
    "from sklearn.metrics import mean_squared_error,mean_absolute_error\n",
    "%matplotlib inline\n",
    "import warnings\n",
    "warnings.filterwarnings('ignore')"
   ]
  },
  {
   "cell_type": "code",
   "execution_count": 2,
   "id": "941122aa",
   "metadata": {},
   "outputs": [],
   "source": [
    "f = pd.read_csv('assign-6-data.csv',names=['Sqr_feet','BHK','Price'])\n",
    "y=f[['Price']]\n",
    "x= f.drop(['Price'],axis=1)"
   ]
  },
  {
   "cell_type": "code",
   "execution_count": 3,
   "id": "7f71c362",
   "metadata": {},
   "outputs": [
    {
     "name": "stdout",
     "output_type": "stream",
     "text": [
      "Intercept = [90422.3066513] and coefficient =[[  139.68918288 -8757.32850423]] \n"
     ]
    }
   ],
   "source": [
    "x_train, x_test, y_train, y_test = train_test_split(x, y, test_size=0.3, random_state=1)\n",
    "algor = LinearRegression()\n",
    "algor.fit(x_train,y_train)\n",
    "y_pred = algor.predict(x_test)\n",
    "\n",
    "intercept = algor.intercept_\n",
    "coefficient = algor.coef_\n",
    "print(f\"Intercept = {intercept} and coefficient ={coefficient} \")"
   ]
  },
  {
   "cell_type": "code",
   "execution_count": 9,
   "id": "9875cf58",
   "metadata": {},
   "outputs": [
    {
     "name": "stdout",
     "output_type": "stream",
     "text": [
      "Accuracy= 78.43320596420006\n"
     ]
    }
   ],
   "source": [
    "print(\"Accuracy=\",algor.score(x_train,y_train)*100)"
   ]
  },
  {
   "cell_type": "code",
   "execution_count": null,
   "id": "3234403e",
   "metadata": {},
   "outputs": [],
   "source": []
  }
 ],
 "metadata": {
  "kernelspec": {
   "display_name": "Python 3 (ipykernel)",
   "language": "python",
   "name": "python3"
  },
  "language_info": {
   "codemirror_mode": {
    "name": "ipython",
    "version": 3
   },
   "file_extension": ".py",
   "mimetype": "text/x-python",
   "name": "python",
   "nbconvert_exporter": "python",
   "pygments_lexer": "ipython3",
   "version": "3.10.7"
  }
 },
 "nbformat": 4,
 "nbformat_minor": 5
}
