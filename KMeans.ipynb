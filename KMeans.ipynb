{
 "cells": [
  {
   "cell_type": "code",
   "execution_count": 11,
   "id": "c7481fd6",
   "metadata": {},
   "outputs": [],
   "source": [
    "import numpy as np\n",
    "import matplotlib.pyplot as plt\n",
    "import pandas as pd\n",
    "from scipy.spatial.distance import cdist\n",
    "\n",
    "#Load dataset\n",
    "file = pd.read_csv(\"clustering-data.csv\",names = [\"A\",\"B\"])\n",
    "df = pd.DataFrame(file)"
   ]
  },
  {
   "cell_type": "code",
   "execution_count": 12,
   "id": "e9e4dc44",
   "metadata": {},
   "outputs": [
    {
     "data": {
      "text/html": [
       "<div>\n",
       "<style scoped>\n",
       "    .dataframe tbody tr th:only-of-type {\n",
       "        vertical-align: middle;\n",
       "    }\n",
       "\n",
       "    .dataframe tbody tr th {\n",
       "        vertical-align: top;\n",
       "    }\n",
       "\n",
       "    .dataframe thead th {\n",
       "        text-align: right;\n",
       "    }\n",
       "</style>\n",
       "<table border=\"1\" class=\"dataframe\">\n",
       "  <thead>\n",
       "    <tr style=\"text-align: right;\">\n",
       "      <th></th>\n",
       "      <th>A</th>\n",
       "      <th>B</th>\n",
       "    </tr>\n",
       "  </thead>\n",
       "  <tbody>\n",
       "    <tr>\n",
       "      <th>0</th>\n",
       "      <td>5.9</td>\n",
       "      <td>3.2</td>\n",
       "    </tr>\n",
       "    <tr>\n",
       "      <th>1</th>\n",
       "      <td>4.6</td>\n",
       "      <td>2.9</td>\n",
       "    </tr>\n",
       "    <tr>\n",
       "      <th>2</th>\n",
       "      <td>6.2</td>\n",
       "      <td>2.8</td>\n",
       "    </tr>\n",
       "    <tr>\n",
       "      <th>3</th>\n",
       "      <td>4.7</td>\n",
       "      <td>3.2</td>\n",
       "    </tr>\n",
       "    <tr>\n",
       "      <th>4</th>\n",
       "      <td>5.5</td>\n",
       "      <td>4.2</td>\n",
       "    </tr>\n",
       "    <tr>\n",
       "      <th>5</th>\n",
       "      <td>5.0</td>\n",
       "      <td>3.0</td>\n",
       "    </tr>\n",
       "    <tr>\n",
       "      <th>6</th>\n",
       "      <td>4.9</td>\n",
       "      <td>3.1</td>\n",
       "    </tr>\n",
       "    <tr>\n",
       "      <th>7</th>\n",
       "      <td>6.7</td>\n",
       "      <td>3.1</td>\n",
       "    </tr>\n",
       "    <tr>\n",
       "      <th>8</th>\n",
       "      <td>5.1</td>\n",
       "      <td>3.8</td>\n",
       "    </tr>\n",
       "    <tr>\n",
       "      <th>9</th>\n",
       "      <td>6.0</td>\n",
       "      <td>3.0</td>\n",
       "    </tr>\n",
       "  </tbody>\n",
       "</table>\n",
       "</div>"
      ],
      "text/plain": [
       "     A    B\n",
       "0  5.9  3.2\n",
       "1  4.6  2.9\n",
       "2  6.2  2.8\n",
       "3  4.7  3.2\n",
       "4  5.5  4.2\n",
       "5  5.0  3.0\n",
       "6  4.9  3.1\n",
       "7  6.7  3.1\n",
       "8  5.1  3.8\n",
       "9  6.0  3.0"
      ]
     },
     "execution_count": 12,
     "metadata": {},
     "output_type": "execute_result"
    }
   ],
   "source": [
    "df"
   ]
  },
  {
   "cell_type": "code",
   "execution_count": 16,
   "id": "5a1da537",
   "metadata": {},
   "outputs": [
    {
     "data": {
      "text/plain": [
       "array([[5.9, 3.2],\n",
       "       [4.6, 2.9],\n",
       "       [6.2, 2.8],\n",
       "       [4.7, 3.2],\n",
       "       [5.5, 4.2],\n",
       "       [5. , 3. ],\n",
       "       [4.9, 3.1],\n",
       "       [6.7, 3.1],\n",
       "       [5.1, 3.8],\n",
       "       [6. , 3. ]])"
      ]
     },
     "execution_count": 16,
     "metadata": {},
     "output_type": "execute_result"
    },
    {
     "data": {
      "image/png": "[encoded data removed]",
      "text/plain": [
       "<Figure size 432x288 with 1 Axes>"
      ]
     },
     "metadata": {
      "needs_background": "light"
     },
     "output_type": "display_data"
    }
   ],
   "source": [
    "plt.scatter(df['A'],df['B'])\n",
    "X = np.array(df)"
   ]
  },
  {
   "cell_type": "code",
   "execution_count": 17,
   "id": "b4be9b4d",
   "metadata": {},
   "outputs": [
    {
     "name": "stdout",
     "output_type": "stream",
     "text": [
      "Initial centroid:\n",
      " [[6.2 2.8]\n",
      " [6.  3. ]\n",
      " [4.7 3.2]]\n",
      "Distance between centroid and records:\n",
      " [[0.5        0.2236068  1.2       ]\n",
      " [1.60312195 1.40356688 0.31622777]\n",
      " [0.         0.28284271 1.55241747]\n",
      " [1.55241747 1.31529464 0.        ]\n",
      " [1.56524758 1.3        1.28062485]\n",
      " [1.21655251 1.         0.36055513]\n",
      " [1.33416641 1.1045361  0.2236068 ]\n",
      " [0.58309519 0.70710678 2.00249844]\n",
      " [1.48660687 1.20415946 0.72111026]\n",
      " [0.28284271 0.         1.31529464]]\n",
      "Labels of each records :\n",
      " [1 2 0 2 2 2 2 0 2 1]\n",
      "New centroids= [[6.45       2.95      ]\n",
      " [5.95       3.1       ]\n",
      " [4.96666667 3.36666667]]\n",
      "Distance between centroid and records:\n",
      " [[0.6041523  0.1118034  0.94809751]\n",
      " [1.85067555 1.36473441 0.59348313]\n",
      " [0.29154759 0.39051248 1.35728487]\n",
      " [1.76776695 1.25399362 0.31446604]\n",
      " [1.57003185 1.18848643 0.98938814]\n",
      " [1.45086181 0.95524866 0.3681787 ]\n",
      " [1.55724115 1.05       0.27487371]\n",
      " [0.29154759 0.75       1.75372619]\n",
      " [1.59530561 1.10113578 0.45338235]\n",
      " [0.45276926 0.1118034  1.09645895]]\n",
      "Labels of each records :\n",
      " [1 2 0 2 2 2 2 0 2 1]\n",
      "New centroids= [[6.45       2.95      ]\n",
      " [5.95       3.1       ]\n",
      " [4.96666667 3.36666667]]\n"
     ]
    },
    {
     "data": {
      "text/plain": [
       "<matplotlib.collections.PathCollection at 0x22c16feb5e0>"
      ]
     },
     "execution_count": 17,
     "metadata": {},
     "output_type": "execute_result"
    },
    {
     "data": {
      "image/png": "[encoded data removed]",
      "text/plain": [
       "<Figure size 432x288 with 1 Axes>"
      ]
     },
     "metadata": {
      "needs_background": "light"
     },
     "output_type": "display_data"
    }
   ],
   "source": [
    "#Using K-Means to cluster the data\n",
    "\n",
    "k=3# random guessing 3 clusters\n",
    "n = X.shape[0]\n",
    "\n",
    "#initial centroids\n",
    "centers = X[np.random.choice(n,k,replace=False)]\n",
    "print(\"Initial centroid:\\n\",centers)\n",
    "closest = np.zeros(n).astype(int)\n",
    "\n",
    "while True:\n",
    "    old_closest = closest\n",
    "    #distance between the centroid and records using scipy's cdist\n",
    "    distance = cdist(X,centers)\n",
    "    print(\"Distance between centroid and records:\\n\",distance)\n",
    "    \n",
    "    #find index of minimum distances and assign that record to a label/cluster\n",
    "    closest = np.argmin(distance,axis=1)\n",
    "    print(\"Labels of each records :\\n\",closest)\n",
    "\n",
    "    #Compute new centroids\n",
    "    for i in range(k):\n",
    "        centers[i,:] = X[closest == i].mean(axis=0)\n",
    "    print(\"New centroids=\",centers)\n",
    "    \n",
    "    if all(closest ==old_closest):\n",
    "        break\n",
    "\n",
    "\n",
    "#visialize\n",
    "plt.scatter(X[:,0],X[:,1],c=closest)"
   ]
  }
 ],
 "metadata": {
  "kernelspec": {
   "display_name": "Python 3 (ipykernel)",
   "language": "python",
   "name": "python3"
  },
  "language_info": {
   "codemirror_mode": {
    "name": "ipython",
    "version": 3
   },
   "file_extension": ".py",
   "mimetype": "text/x-python",
   "name": "python",
   "nbconvert_exporter": "python",
   "pygments_lexer": "ipython3",
   "version": "3.10.7"
  }
 },
 "nbformat": 4,
 "nbformat_minor": 5
}
