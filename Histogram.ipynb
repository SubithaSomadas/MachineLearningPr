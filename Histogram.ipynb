{
 "cells": [
  {
   "cell_type": "code",
   "execution_count": 1,
   "id": "b8894349",
   "metadata": {},
   "outputs": [],
   "source": [
    "import pandas as pd\n",
    "import numpy as np"
   ]
  },
  {
   "cell_type": "code",
   "execution_count": 2,
   "id": "d5da71ad",
   "metadata": {},
   "outputs": [],
   "source": [
    "import matplotlib.pyplot as plt"
   ]
  },
  {
   "cell_type": "code",
   "execution_count": 3,
   "id": "fb04c70a",
   "metadata": {},
   "outputs": [],
   "source": [
    "import warnings"
   ]
  },
  {
   "cell_type": "code",
   "execution_count": 4,
   "id": "d8eef7bc",
   "metadata": {},
   "outputs": [],
   "source": [
    "warnings.filterwarnings(\"ignore\")"
   ]
  },
  {
   "cell_type": "markdown",
   "id": "ba294887",
   "metadata": {},
   "source": [
    "# Load data"
   ]
  },
  {
   "cell_type": "code",
   "execution_count": 5,
   "id": "1434ef70",
   "metadata": {},
   "outputs": [],
   "source": [
    "file = pd.read_csv(\"household_power_consumption.txt\",delimiter=';')"
   ]
  },
  {
   "cell_type": "code",
   "execution_count": 6,
   "id": "5e5aa4aa",
   "metadata": {},
   "outputs": [],
   "source": [
    "df = pd.DataFrame(file)"
   ]
  },
  {
   "cell_type": "code",
   "execution_count": 7,
   "id": "781a14bd",
   "metadata": {
    "scrolled": true
   },
   "outputs": [
    {
     "data": {
      "text/html": [
       "<div>\n",
       "<style scoped>\n",
       "    .dataframe tbody tr th:only-of-type {\n",
       "        vertical-align: middle;\n",
       "    }\n",
       "\n",
       "    .dataframe tbody tr th {\n",
       "        vertical-align: top;\n",
       "    }\n",
       "\n",
       "    .dataframe thead th {\n",
       "        text-align: right;\n",
       "    }\n",
       "</style>\n",
       "<table border=\"1\" class=\"dataframe\">\n",
       "  <thead>\n",
       "    <tr style=\"text-align: right;\">\n",
       "      <th></th>\n",
       "      <th>Date</th>\n",
       "      <th>Time</th>\n",
       "      <th>Global_active_power</th>\n",
       "      <th>Global_reactive_power</th>\n",
       "      <th>Voltage</th>\n",
       "      <th>Global_intensity</th>\n",
       "      <th>Sub_metering_1</th>\n",
       "      <th>Sub_metering_2</th>\n",
       "      <th>Sub_metering_3</th>\n",
       "    </tr>\n",
       "  </thead>\n",
       "  <tbody>\n",
       "    <tr>\n",
       "      <th>0</th>\n",
       "      <td>16/12/2006</td>\n",
       "      <td>17:24:00</td>\n",
       "      <td>4.216</td>\n",
       "      <td>0.418</td>\n",
       "      <td>234.84</td>\n",
       "      <td>18.4</td>\n",
       "      <td>0.0</td>\n",
       "      <td>1.0</td>\n",
       "      <td>17.0</td>\n",
       "    </tr>\n",
       "    <tr>\n",
       "      <th>1</th>\n",
       "      <td>16/12/2006</td>\n",
       "      <td>17:25:00</td>\n",
       "      <td>5.36</td>\n",
       "      <td>0.436</td>\n",
       "      <td>233.63</td>\n",
       "      <td>23.0</td>\n",
       "      <td>0.0</td>\n",
       "      <td>1.0</td>\n",
       "      <td>16.0</td>\n",
       "    </tr>\n",
       "    <tr>\n",
       "      <th>2</th>\n",
       "      <td>16/12/2006</td>\n",
       "      <td>17:26:00</td>\n",
       "      <td>5.374</td>\n",
       "      <td>0.498</td>\n",
       "      <td>233.29</td>\n",
       "      <td>23.0</td>\n",
       "      <td>0.0</td>\n",
       "      <td>2.0</td>\n",
       "      <td>17.0</td>\n",
       "    </tr>\n",
       "    <tr>\n",
       "      <th>3</th>\n",
       "      <td>16/12/2006</td>\n",
       "      <td>17:27:00</td>\n",
       "      <td>5.388</td>\n",
       "      <td>0.502</td>\n",
       "      <td>233.74</td>\n",
       "      <td>23.0</td>\n",
       "      <td>0.0</td>\n",
       "      <td>1.0</td>\n",
       "      <td>17.0</td>\n",
       "    </tr>\n",
       "    <tr>\n",
       "      <th>4</th>\n",
       "      <td>16/12/2006</td>\n",
       "      <td>17:28:00</td>\n",
       "      <td>3.666</td>\n",
       "      <td>0.528</td>\n",
       "      <td>235.68</td>\n",
       "      <td>15.8</td>\n",
       "      <td>0.0</td>\n",
       "      <td>1.0</td>\n",
       "      <td>17.0</td>\n",
       "    </tr>\n",
       "  </tbody>\n",
       "</table>\n",
       "</div>"
      ],
      "text/plain": [
       "         Date      Time Global_active_power Global_reactive_power Voltage  \\\n",
       "0  16/12/2006  17:24:00               4.216                 0.418  234.84   \n",
       "1  16/12/2006  17:25:00                5.36                 0.436  233.63   \n",
       "2  16/12/2006  17:26:00               5.374                 0.498  233.29   \n",
       "3  16/12/2006  17:27:00               5.388                 0.502  233.74   \n",
       "4  16/12/2006  17:28:00               3.666                 0.528  235.68   \n",
       "\n",
       "  Global_intensity Sub_metering_1 Sub_metering_2  Sub_metering_3  \n",
       "0             18.4            0.0            1.0            17.0  \n",
       "1             23.0            0.0            1.0            16.0  \n",
       "2             23.0            0.0            2.0            17.0  \n",
       "3             23.0            0.0            1.0            17.0  \n",
       "4             15.8            0.0            1.0            17.0  "
      ]
     },
     "execution_count": 7,
     "metadata": {},
     "output_type": "execute_result"
    }
   ],
   "source": [
    "df.head()"
   ]
  },
  {
   "cell_type": "code",
   "execution_count": 8,
   "id": "31051813",
   "metadata": {},
   "outputs": [],
   "source": [
    "df = df[(df.Global_active_power.str[0] != '?')]\n"
   ]
  },
  {
   "cell_type": "markdown",
   "id": "b97a2d13",
   "metadata": {},
   "source": [
    "# Subset the data from the dates 2007-02-01 and 2007-02-02."
   ]
  },
  {
   "cell_type": "code",
   "execution_count": 9,
   "id": "f6a9afb5",
   "metadata": {
    "scrolled": false
   },
   "outputs": [],
   "source": [
    "df['Date'] = pd.to_datetime(df['Date'])"
   ]
  },
  {
   "cell_type": "code",
   "execution_count": 10,
   "id": "3209020b",
   "metadata": {},
   "outputs": [],
   "source": [
    "period = (df['Date'] >= pd.to_datetime('2007-02-01')) & (df['Date'] <= pd.to_datetime('2007-02-02'))"
   ]
  },
  {
   "cell_type": "code",
   "execution_count": 11,
   "id": "dc5a8c9a",
   "metadata": {},
   "outputs": [
    {
     "data": {
      "text/html": [
       "<div>\n",
       "<style scoped>\n",
       "    .dataframe tbody tr th:only-of-type {\n",
       "        vertical-align: middle;\n",
       "    }\n",
       "\n",
       "    .dataframe tbody tr th {\n",
       "        vertical-align: top;\n",
       "    }\n",
       "\n",
       "    .dataframe thead th {\n",
       "        text-align: right;\n",
       "    }\n",
       "</style>\n",
       "<table border=\"1\" class=\"dataframe\">\n",
       "  <thead>\n",
       "    <tr style=\"text-align: right;\">\n",
       "      <th></th>\n",
       "      <th>Date</th>\n",
       "      <th>Time</th>\n",
       "      <th>Global_active_power</th>\n",
       "      <th>Global_reactive_power</th>\n",
       "      <th>Voltage</th>\n",
       "      <th>Global_intensity</th>\n",
       "      <th>Sub_metering_1</th>\n",
       "      <th>Sub_metering_2</th>\n",
       "      <th>Sub_metering_3</th>\n",
       "    </tr>\n",
       "  </thead>\n",
       "  <tbody>\n",
       "    <tr>\n",
       "      <th>23432</th>\n",
       "      <td>2007-02-01</td>\n",
       "      <td>00:00:00</td>\n",
       "      <td>0.442</td>\n",
       "      <td>0.122</td>\n",
       "      <td>241.06</td>\n",
       "      <td>1.8</td>\n",
       "      <td>0.0</td>\n",
       "      <td>0.0</td>\n",
       "      <td>0.0</td>\n",
       "    </tr>\n",
       "    <tr>\n",
       "      <th>23433</th>\n",
       "      <td>2007-02-01</td>\n",
       "      <td>00:01:00</td>\n",
       "      <td>0.37</td>\n",
       "      <td>0.0</td>\n",
       "      <td>241.22</td>\n",
       "      <td>1.6</td>\n",
       "      <td>0.0</td>\n",
       "      <td>0.0</td>\n",
       "      <td>0.0</td>\n",
       "    </tr>\n",
       "    <tr>\n",
       "      <th>23434</th>\n",
       "      <td>2007-02-01</td>\n",
       "      <td>00:02:00</td>\n",
       "      <td>0.368</td>\n",
       "      <td>0.0</td>\n",
       "      <td>241.03</td>\n",
       "      <td>1.6</td>\n",
       "      <td>0.0</td>\n",
       "      <td>0.0</td>\n",
       "      <td>0.0</td>\n",
       "    </tr>\n",
       "    <tr>\n",
       "      <th>23435</th>\n",
       "      <td>2007-02-01</td>\n",
       "      <td>00:03:00</td>\n",
       "      <td>0.37</td>\n",
       "      <td>0.0</td>\n",
       "      <td>241.41</td>\n",
       "      <td>1.6</td>\n",
       "      <td>0.0</td>\n",
       "      <td>0.0</td>\n",
       "      <td>0.0</td>\n",
       "    </tr>\n",
       "    <tr>\n",
       "      <th>23436</th>\n",
       "      <td>2007-02-01</td>\n",
       "      <td>00:04:00</td>\n",
       "      <td>0.37</td>\n",
       "      <td>0.0</td>\n",
       "      <td>241.22</td>\n",
       "      <td>1.6</td>\n",
       "      <td>0.0</td>\n",
       "      <td>0.0</td>\n",
       "      <td>0.0</td>\n",
       "    </tr>\n",
       "    <tr>\n",
       "      <th>...</th>\n",
       "      <td>...</td>\n",
       "      <td>...</td>\n",
       "      <td>...</td>\n",
       "      <td>...</td>\n",
       "      <td>...</td>\n",
       "      <td>...</td>\n",
       "      <td>...</td>\n",
       "      <td>...</td>\n",
       "      <td>...</td>\n",
       "    </tr>\n",
       "    <tr>\n",
       "      <th>69505</th>\n",
       "      <td>2007-02-02</td>\n",
       "      <td>23:55:00</td>\n",
       "      <td>3.696</td>\n",
       "      <td>0.226</td>\n",
       "      <td>240.9</td>\n",
       "      <td>15.2</td>\n",
       "      <td>0.0</td>\n",
       "      <td>1.0</td>\n",
       "      <td>18.0</td>\n",
       "    </tr>\n",
       "    <tr>\n",
       "      <th>69506</th>\n",
       "      <td>2007-02-02</td>\n",
       "      <td>23:56:00</td>\n",
       "      <td>3.698</td>\n",
       "      <td>0.226</td>\n",
       "      <td>241.02</td>\n",
       "      <td>15.2</td>\n",
       "      <td>0.0</td>\n",
       "      <td>2.0</td>\n",
       "      <td>18.0</td>\n",
       "    </tr>\n",
       "    <tr>\n",
       "      <th>69507</th>\n",
       "      <td>2007-02-02</td>\n",
       "      <td>23:57:00</td>\n",
       "      <td>3.684</td>\n",
       "      <td>0.224</td>\n",
       "      <td>240.48</td>\n",
       "      <td>15.2</td>\n",
       "      <td>0.0</td>\n",
       "      <td>1.0</td>\n",
       "      <td>18.0</td>\n",
       "    </tr>\n",
       "    <tr>\n",
       "      <th>69508</th>\n",
       "      <td>2007-02-02</td>\n",
       "      <td>23:58:00</td>\n",
       "      <td>3.658</td>\n",
       "      <td>0.22</td>\n",
       "      <td>239.61</td>\n",
       "      <td>15.2</td>\n",
       "      <td>0.0</td>\n",
       "      <td>1.0</td>\n",
       "      <td>17.0</td>\n",
       "    </tr>\n",
       "    <tr>\n",
       "      <th>69509</th>\n",
       "      <td>2007-02-02</td>\n",
       "      <td>23:59:00</td>\n",
       "      <td>3.68</td>\n",
       "      <td>0.224</td>\n",
       "      <td>240.37</td>\n",
       "      <td>15.2</td>\n",
       "      <td>0.0</td>\n",
       "      <td>2.0</td>\n",
       "      <td>18.0</td>\n",
       "    </tr>\n",
       "  </tbody>\n",
       "</table>\n",
       "<p>2880 rows × 9 columns</p>\n",
       "</div>"
      ],
      "text/plain": [
       "            Date      Time Global_active_power Global_reactive_power Voltage  \\\n",
       "23432 2007-02-01  00:00:00               0.442                 0.122  241.06   \n",
       "23433 2007-02-01  00:01:00                0.37                   0.0  241.22   \n",
       "23434 2007-02-01  00:02:00               0.368                   0.0  241.03   \n",
       "23435 2007-02-01  00:03:00                0.37                   0.0  241.41   \n",
       "23436 2007-02-01  00:04:00                0.37                   0.0  241.22   \n",
       "...          ...       ...                 ...                   ...     ...   \n",
       "69505 2007-02-02  23:55:00               3.696                 0.226   240.9   \n",
       "69506 2007-02-02  23:56:00               3.698                 0.226  241.02   \n",
       "69507 2007-02-02  23:57:00               3.684                 0.224  240.48   \n",
       "69508 2007-02-02  23:58:00               3.658                  0.22  239.61   \n",
       "69509 2007-02-02  23:59:00                3.68                 0.224  240.37   \n",
       "\n",
       "      Global_intensity Sub_metering_1 Sub_metering_2  Sub_metering_3  \n",
       "23432              1.8            0.0            0.0             0.0  \n",
       "23433              1.6            0.0            0.0             0.0  \n",
       "23434              1.6            0.0            0.0             0.0  \n",
       "23435              1.6            0.0            0.0             0.0  \n",
       "23436              1.6            0.0            0.0             0.0  \n",
       "...                ...            ...            ...             ...  \n",
       "69505             15.2            0.0            1.0            18.0  \n",
       "69506             15.2            0.0            2.0            18.0  \n",
       "69507             15.2            0.0            1.0            18.0  \n",
       "69508             15.2            0.0            1.0            17.0  \n",
       "69509             15.2            0.0            2.0            18.0  \n",
       "\n",
       "[2880 rows x 9 columns]"
      ]
     },
     "execution_count": 11,
     "metadata": {},
     "output_type": "execute_result"
    }
   ],
   "source": [
    "df.loc[period]"
   ]
  },
  {
   "cell_type": "markdown",
   "id": "f5c80903",
   "metadata": {},
   "source": [
    "# Create a histogram"
   ]
  },
  {
   "cell_type": "code",
   "execution_count": 12,
   "id": "566be3ff",
   "metadata": {},
   "outputs": [],
   "source": [
    "df['Global_active_power']=df['Global_active_power'].astype(float)"
   ]
  },
  {
   "cell_type": "code",
   "execution_count": 13,
   "id": "931f7c86",
   "metadata": {},
   "outputs": [],
   "source": [
    "df['Global_reactive_power']=df['Global_reactive_power'].astype(float)"
   ]
  },
  {
   "cell_type": "code",
   "execution_count": 14,
   "id": "b2e3e76f",
   "metadata": {
    "scrolled": true
   },
   "outputs": [
    {
     "data": {
      "image/png": "[encoded data removed]",
      "text/plain": [
       "<Figure size 360x360 with 1 Axes>"
      ]
     },
     "metadata": {
      "needs_background": "light"
     },
     "output_type": "display_data"
    },
    {
     "data": {
      "image/png": "[encoded data removed]",
      "text/plain": [
       "<Figure size 360x360 with 1 Axes>"
      ]
     },
     "metadata": {
      "needs_background": "light"
     },
     "output_type": "display_data"
    }
   ],
   "source": [
    "hist = df.hist('Global_active_power',figsize=(5,5),color='green')\n",
    "ax = df.hist('Global_reactive_power',figsize=(5,5),color='hotpink')"
   ]
  },
  {
   "cell_type": "markdown",
   "id": "6807707c",
   "metadata": {},
   "source": [
    "# Create a Time series"
   ]
  },
  {
   "cell_type": "code",
   "execution_count": 15,
   "id": "29e21bdc",
   "metadata": {},
   "outputs": [
    {
     "data": {
      "text/plain": [
       "[<matplotlib.lines.Line2D at 0x1eb2a71ddb0>]"
      ]
     },
     "execution_count": 15,
     "metadata": {},
     "output_type": "execute_result"
    },
    {
     "data": {
      "image/png": "[encoded data removed]",
      "text/plain": [
       "<Figure size 432x288 with 1 Axes>"
      ]
     },
     "metadata": {
      "needs_background": "light"
     },
     "output_type": "display_data"
    }
   ],
   "source": [
    "x1 = pd.date_range('2006-12-16',periods=100)\n",
    "y1 = np.linspace(-0.75,1,100)+np.random.randn(100)\n",
    "plt.plot(x1,y1)"
   ]
  },
  {
   "cell_type": "markdown",
   "id": "caf2df90",
   "metadata": {},
   "source": [
    "# Create a plot for sub metering,multiple plot"
   ]
  },
  {
   "cell_type": "code",
   "execution_count": 16,
   "id": "ed7b2b4e",
   "metadata": {
    "scrolled": true
   },
   "outputs": [],
   "source": [
    "df['Sub_metering_1']=df['Sub_metering_1'].astype(float)\n",
    "df['Sub_metering_2']=df['Sub_metering_2'].astype(float)\n",
    "df['Sub_metering_3']=df['Sub_metering_3'].astype(float)"
   ]
  },
  {
   "cell_type": "code",
   "execution_count": 17,
   "id": "6937f8c6",
   "metadata": {
    "scrolled": false
   },
   "outputs": [
    {
     "data": {
      "text/plain": [
       "<Axes: >"
      ]
     },
     "execution_count": 17,
     "metadata": {},
     "output_type": "execute_result"
    },
    {
     "data": {
      "image/png": "[encoded data removed]",
      "text/plain": [
       "<Figure size 720x360 with 4 Axes>"
      ]
     },
     "metadata": {
      "needs_background": "light"
     },
     "output_type": "display_data"
    }
   ],
   "source": [
    "fig,axes = plt.subplots(2,2,figsize=(10,5))\n",
    "df.Sub_metering_1.plot(ax=axes[0,0],color=\"#7E2F8E\")\n",
    "df.Sub_metering_2.plot(ax=axes[0,1],color=\"#D95319\")\n",
    "df.Sub_metering_3.plot(ax=axes[1,0],color=\"#EDB120\")\n",
    "\n",
    "df['total_metering']= df['Sub_metering_1'] + df['Sub_metering_2'] + df['Sub_metering_3']\n",
    "df.total_metering.plot(ax=axes[1,1])"
   ]
  }
 ],
 "metadata": {
  "kernelspec": {
   "display_name": "Python 3 (ipykernel)",
   "language": "python",
   "name": "python3"
  },
  "language_info": {
   "codemirror_mode": {
    "name": "ipython",
    "version": 3
   },
   "file_extension": ".py",
   "mimetype": "text/x-python",
   "name": "python",
   "nbconvert_exporter": "python",
   "pygments_lexer": "ipython3",
   "version": "3.10.7"
  }
 },
 "nbformat": 4,
 "nbformat_minor": 5
}
